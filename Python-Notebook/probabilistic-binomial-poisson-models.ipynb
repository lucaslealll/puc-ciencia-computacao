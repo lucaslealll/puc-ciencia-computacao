{
  "nbformat": 4,
  "nbformat_minor": 0,
  "metadata": {
    "colab": {
      "name": "Modelos_probabilísticos_Binomial_Poisson.ipynb",
      "provenance": [],
      "collapsed_sections": []
    },
    "kernelspec": {
      "name": "python3",
      "display_name": "Python 3"
    },
    "language_info": {
      "name": "python"
    }
  },
  "cells": [
    {
      "cell_type": "markdown",
      "metadata": {
        "id": "xpAuMVCwfWs8"
      },
      "source": [
        "\n",
        "---\n",
        "\n",
        "---\n",
        "# Modelos de Distribuição de Probabilidade (Binomial e Poisson)\n",
        "\n",
        "Este notebook apresenta exemplos de cálculos de probabilidades a partir dos modelos de distribuição de probabilidades Binomial e Poisson utilizando funções da linguagem Python.\n",
        "\n",
        "---\n",
        "\n",
        "---\n",
        "\n",
        "\n",
        "\n",
        "\n",
        "\n"
      ]
    },
    {
      "cell_type": "markdown",
      "source": [
        "\n",
        "\n",
        "---\n",
        "\n",
        "\n",
        "## Cálculos de probabilidades\n",
        "\n",
        "\n",
        "---\n",
        "\n"
      ],
      "metadata": {
        "id": "nTONG4bllMSc"
      }
    },
    {
      "cell_type": "markdown",
      "source": [
        "###*Distribuição Binomial*\n",
        "\n",
        "Jogando uma moeda 10 vezes, qual a probabilidade de obter 3 \"caras\"?"
      ],
      "metadata": {
        "id": "NxVaTPmxGkA8"
      }
    },
    {
      "cell_type": "code",
      "source": [
        "import math\n",
        "\n",
        "n = 10\n",
        "x = 3\n",
        "p = 0.5\n",
        "\n",
        "(math.factorial(n)) / (math.factorial(x) * math.factorial(n - x)) * math.pow(p, x) * math.pow(1 - p, n - x)"
      ],
      "metadata": {
        "colab": {
          "base_uri": "https://localhost:8080/"
        },
        "id": "WhpQGs8qGm9-",
        "outputId": "d841806d-5296-4ead-dbf7-38f1a34b8eba"
      },
      "execution_count": null,
      "outputs": [
        {
          "output_type": "execute_result",
          "data": {
            "text/plain": [
              "0.1171875"
            ]
          },
          "metadata": {},
          "execution_count": 3
        }
      ]
    },
    {
      "cell_type": "markdown",
      "source": [
        "OBS: A relação entre os eventos para uma variável aleatória discreta e suas probabilidades é chamada de distribuição de probabilidade discreta e é resumida por uma função massa de probabilidade, ou PMF (Probability Mass Function)."
      ],
      "metadata": {
        "id": "wNGzPXSpXLvG"
      }
    },
    {
      "cell_type": "code",
      "source": [
        "from scipy import stats\n",
        "\n",
        "stats.binom.pmf(x, n, p)"
      ],
      "metadata": {
        "colab": {
          "base_uri": "https://localhost:8080/"
        },
        "id": "zM25haJvSCRZ",
        "outputId": "d10dc2fc-b188-4a2b-b3c6-1c669ef93505"
      },
      "execution_count": null,
      "outputs": [
        {
          "output_type": "execute_result",
          "data": {
            "text/plain": [
              "0.11718750000000014"
            ]
          },
          "metadata": {},
          "execution_count": 5
        }
      ]
    },
    {
      "cell_type": "markdown",
      "source": [
        "###*Distribuição de Poisson*\n",
        "\n",
        "O número médio de acidentes de trânsito por dia é 10. Qual a probabilidade de ocorrerem 20 amanhã?"
      ],
      "metadata": {
        "id": "OeojTAmVSQRw"
      }
    },
    {
      "cell_type": "code",
      "source": [
        "lamb = 10\n",
        "x = 20\n",
        "math.pow(math.e, -lamb) * (math.pow(lamb, x) / math.factorial(x))"
      ],
      "metadata": {
        "colab": {
          "base_uri": "https://localhost:8080/"
        },
        "id": "anvwk1-zSn_Y",
        "outputId": "1e160921-72f1-433c-abd6-741d04eb1ec5"
      },
      "execution_count": null,
      "outputs": [
        {
          "output_type": "execute_result",
          "data": {
            "text/plain": [
              "0.0018660813139987605"
            ]
          },
          "metadata": {},
          "execution_count": 6
        }
      ]
    },
    {
      "cell_type": "code",
      "source": [
        "stats.poisson.pmf(x, lamb)"
      ],
      "metadata": {
        "colab": {
          "base_uri": "https://localhost:8080/"
        },
        "id": "7Par5ANJTLo9",
        "outputId": "fdee1c85-9c13-4cdf-b62c-65d92d5a9c71"
      },
      "execution_count": null,
      "outputs": [
        {
          "output_type": "execute_result",
          "data": {
            "text/plain": [
              "0.0018660813139987742"
            ]
          },
          "metadata": {},
          "execution_count": 7
        }
      ]
    }
  ]
}