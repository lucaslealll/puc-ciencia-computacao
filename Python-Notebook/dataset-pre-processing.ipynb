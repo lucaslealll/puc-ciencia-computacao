{
  "cells": [
    {
      "cell_type": "markdown",
      "metadata": {
        "id": "_QysirvzGiDA"
      },
      "source": [
        "# **Tarefa 5.1 - Pré-processamento de um conjunto de dados** | *Lucas Omar*"
      ]
    },
    {
      "cell_type": "markdown",
      "metadata": {
        "id": "-d71LMTKHiwN"
      },
      "source": [
        "**1. Faça a leitura do arquivo \"Churn_Modelling_2.csv\" disponível na pasta \"Churn\" e armazene numa variável como um dataframe;**"
      ]
    },
    {
      "cell_type": "code",
      "execution_count": 501,
      "metadata": {
        "colab": {
          "base_uri": "https://localhost:8080/",
          "height": 468
        },
        "id": "8zKyD8esevJK",
        "outputId": "2d60053c-ec69-4ce8-8478-6dfcd48db36d"
      },
      "outputs": [
        {
          "data": {
            "text/html": [
              "\n",
              "  <div id=\"df-1c00bb0b-2ef5-4570-ada7-8d4a9514a6ad\">\n",
              "    <div class=\"colab-df-container\">\n",
              "      <div>\n",
              "<style scoped>\n",
              "    .dataframe tbody tr th:only-of-type {\n",
              "        vertical-align: middle;\n",
              "    }\n",
              "\n",
              "    .dataframe tbody tr th {\n",
              "        vertical-align: top;\n",
              "    }\n",
              "\n",
              "    .dataframe thead th {\n",
              "        text-align: right;\n",
              "    }\n",
              "</style>\n",
              "<table border=\"1\" class=\"dataframe\">\n",
              "  <thead>\n",
              "    <tr style=\"text-align: right;\">\n",
              "      <th></th>\n",
              "      <th>RowNumber</th>\n",
              "      <th>CustomerId</th>\n",
              "      <th>Surname</th>\n",
              "      <th>CreditScore</th>\n",
              "      <th>Geography</th>\n",
              "      <th>Gender</th>\n",
              "      <th>Age</th>\n",
              "      <th>Tenure</th>\n",
              "      <th>Balance</th>\n",
              "      <th>NumOfProducts</th>\n",
              "      <th>HasCrCard</th>\n",
              "      <th>IsActiveMember</th>\n",
              "      <th>EstimatedSalary</th>\n",
              "      <th>Exited</th>\n",
              "    </tr>\n",
              "  </thead>\n",
              "  <tbody>\n",
              "    <tr>\n",
              "      <th>0</th>\n",
              "      <td>1</td>\n",
              "      <td>15634602</td>\n",
              "      <td>Hargrave</td>\n",
              "      <td>619</td>\n",
              "      <td>France</td>\n",
              "      <td>Female</td>\n",
              "      <td>42</td>\n",
              "      <td>2</td>\n",
              "      <td>0.00</td>\n",
              "      <td>1.0</td>\n",
              "      <td>1</td>\n",
              "      <td>1.0</td>\n",
              "      <td>101348.88</td>\n",
              "      <td>1</td>\n",
              "    </tr>\n",
              "    <tr>\n",
              "      <th>1</th>\n",
              "      <td>2</td>\n",
              "      <td>15647311</td>\n",
              "      <td>Hill</td>\n",
              "      <td>608</td>\n",
              "      <td>Spain</td>\n",
              "      <td>Female</td>\n",
              "      <td>41</td>\n",
              "      <td>1</td>\n",
              "      <td>83807.86</td>\n",
              "      <td>1.0</td>\n",
              "      <td>0</td>\n",
              "      <td>1.0</td>\n",
              "      <td>112542.58</td>\n",
              "      <td>0</td>\n",
              "    </tr>\n",
              "    <tr>\n",
              "      <th>2</th>\n",
              "      <td>3</td>\n",
              "      <td>15619304</td>\n",
              "      <td>Onio</td>\n",
              "      <td>502</td>\n",
              "      <td>France</td>\n",
              "      <td>Female</td>\n",
              "      <td>42</td>\n",
              "      <td>8</td>\n",
              "      <td>159660.80</td>\n",
              "      <td>3.0</td>\n",
              "      <td>1</td>\n",
              "      <td>0.0</td>\n",
              "      <td>113931.57</td>\n",
              "      <td>1</td>\n",
              "    </tr>\n",
              "    <tr>\n",
              "      <th>3</th>\n",
              "      <td>4</td>\n",
              "      <td>15701354</td>\n",
              "      <td>Boni</td>\n",
              "      <td>699</td>\n",
              "      <td>France</td>\n",
              "      <td>Female</td>\n",
              "      <td>39</td>\n",
              "      <td>1</td>\n",
              "      <td>0.00</td>\n",
              "      <td>2.0</td>\n",
              "      <td>0</td>\n",
              "      <td>0.0</td>\n",
              "      <td>93826.63</td>\n",
              "      <td>0</td>\n",
              "    </tr>\n",
              "    <tr>\n",
              "      <th>4</th>\n",
              "      <td>5</td>\n",
              "      <td>15737888</td>\n",
              "      <td>Mitchell</td>\n",
              "      <td>850</td>\n",
              "      <td>Spain</td>\n",
              "      <td>Female</td>\n",
              "      <td>43</td>\n",
              "      <td>2</td>\n",
              "      <td>125510.82</td>\n",
              "      <td>1.0</td>\n",
              "      <td>1</td>\n",
              "      <td>1.0</td>\n",
              "      <td>79084.10</td>\n",
              "      <td>0</td>\n",
              "    </tr>\n",
              "    <tr>\n",
              "      <th>...</th>\n",
              "      <td>...</td>\n",
              "      <td>...</td>\n",
              "      <td>...</td>\n",
              "      <td>...</td>\n",
              "      <td>...</td>\n",
              "      <td>...</td>\n",
              "      <td>...</td>\n",
              "      <td>...</td>\n",
              "      <td>...</td>\n",
              "      <td>...</td>\n",
              "      <td>...</td>\n",
              "      <td>...</td>\n",
              "      <td>...</td>\n",
              "      <td>...</td>\n",
              "    </tr>\n",
              "    <tr>\n",
              "      <th>9995</th>\n",
              "      <td>9996</td>\n",
              "      <td>15606229</td>\n",
              "      <td>Obijiaku</td>\n",
              "      <td>771</td>\n",
              "      <td>France</td>\n",
              "      <td>Male</td>\n",
              "      <td>39</td>\n",
              "      <td>5</td>\n",
              "      <td>0.00</td>\n",
              "      <td>2.0</td>\n",
              "      <td>1</td>\n",
              "      <td>0.0</td>\n",
              "      <td>96270.64</td>\n",
              "      <td>0</td>\n",
              "    </tr>\n",
              "    <tr>\n",
              "      <th>9996</th>\n",
              "      <td>9997</td>\n",
              "      <td>15569892</td>\n",
              "      <td>Johnstone</td>\n",
              "      <td>516</td>\n",
              "      <td>France</td>\n",
              "      <td>Male</td>\n",
              "      <td>35</td>\n",
              "      <td>10</td>\n",
              "      <td>57369.61</td>\n",
              "      <td>1.0</td>\n",
              "      <td>1</td>\n",
              "      <td>1.0</td>\n",
              "      <td>101699.77</td>\n",
              "      <td>0</td>\n",
              "    </tr>\n",
              "    <tr>\n",
              "      <th>9997</th>\n",
              "      <td>9998</td>\n",
              "      <td>15584532</td>\n",
              "      <td>Liu</td>\n",
              "      <td>709</td>\n",
              "      <td>France</td>\n",
              "      <td>Female</td>\n",
              "      <td>36</td>\n",
              "      <td>7</td>\n",
              "      <td>0.00</td>\n",
              "      <td>1.0</td>\n",
              "      <td>0</td>\n",
              "      <td>1.0</td>\n",
              "      <td>42085.58</td>\n",
              "      <td>1</td>\n",
              "    </tr>\n",
              "    <tr>\n",
              "      <th>9998</th>\n",
              "      <td>9999</td>\n",
              "      <td>15682355</td>\n",
              "      <td>Sabbatini</td>\n",
              "      <td>772</td>\n",
              "      <td>Germany</td>\n",
              "      <td>Male</td>\n",
              "      <td>42</td>\n",
              "      <td>3</td>\n",
              "      <td>75075.31</td>\n",
              "      <td>2.0</td>\n",
              "      <td>1</td>\n",
              "      <td>0.0</td>\n",
              "      <td>92888.52</td>\n",
              "      <td>1</td>\n",
              "    </tr>\n",
              "    <tr>\n",
              "      <th>9999</th>\n",
              "      <td>10000</td>\n",
              "      <td>15628319</td>\n",
              "      <td>Walker</td>\n",
              "      <td>792</td>\n",
              "      <td>France</td>\n",
              "      <td>Female</td>\n",
              "      <td>28</td>\n",
              "      <td>4</td>\n",
              "      <td>130142.79</td>\n",
              "      <td>1.0</td>\n",
              "      <td>1</td>\n",
              "      <td>0.0</td>\n",
              "      <td>38190.78</td>\n",
              "      <td>0</td>\n",
              "    </tr>\n",
              "  </tbody>\n",
              "</table>\n",
              "<p>10000 rows × 14 columns</p>\n",
              "</div>\n",
              "      <button class=\"colab-df-convert\" onclick=\"convertToInteractive('df-1c00bb0b-2ef5-4570-ada7-8d4a9514a6ad')\"\n",
              "              title=\"Convert this dataframe to an interactive table.\"\n",
              "              style=\"display:none;\">\n",
              "        \n",
              "  <svg xmlns=\"http://www.w3.org/2000/svg\" height=\"24px\"viewBox=\"0 0 24 24\"\n",
              "       width=\"24px\">\n",
              "    <path d=\"M0 0h24v24H0V0z\" fill=\"none\"/>\n",
              "    <path d=\"M18.56 5.44l.94 2.06.94-2.06 2.06-.94-2.06-.94-.94-2.06-.94 2.06-2.06.94zm-11 1L8.5 8.5l.94-2.06 2.06-.94-2.06-.94L8.5 2.5l-.94 2.06-2.06.94zm10 10l.94 2.06.94-2.06 2.06-.94-2.06-.94-.94-2.06-.94 2.06-2.06.94z\"/><path d=\"M17.41 7.96l-1.37-1.37c-.4-.4-.92-.59-1.43-.59-.52 0-1.04.2-1.43.59L10.3 9.45l-7.72 7.72c-.78.78-.78 2.05 0 2.83L4 21.41c.39.39.9.59 1.41.59.51 0 1.02-.2 1.41-.59l7.78-7.78 2.81-2.81c.8-.78.8-2.07 0-2.86zM5.41 20L4 18.59l7.72-7.72 1.47 1.35L5.41 20z\"/>\n",
              "  </svg>\n",
              "      </button>\n",
              "      \n",
              "  <style>\n",
              "    .colab-df-container {\n",
              "      display:flex;\n",
              "      flex-wrap:wrap;\n",
              "      gap: 12px;\n",
              "    }\n",
              "\n",
              "    .colab-df-convert {\n",
              "      background-color: #E8F0FE;\n",
              "      border: none;\n",
              "      border-radius: 50%;\n",
              "      cursor: pointer;\n",
              "      display: none;\n",
              "      fill: #1967D2;\n",
              "      height: 32px;\n",
              "      padding: 0 0 0 0;\n",
              "      width: 32px;\n",
              "    }\n",
              "\n",
              "    .colab-df-convert:hover {\n",
              "      background-color: #E2EBFA;\n",
              "      box-shadow: 0px 1px 2px rgba(60, 64, 67, 0.3), 0px 1px 3px 1px rgba(60, 64, 67, 0.15);\n",
              "      fill: #174EA6;\n",
              "    }\n",
              "\n",
              "    [theme=dark] .colab-df-convert {\n",
              "      background-color: #3B4455;\n",
              "      fill: #D2E3FC;\n",
              "    }\n",
              "\n",
              "    [theme=dark] .colab-df-convert:hover {\n",
              "      background-color: #434B5C;\n",
              "      box-shadow: 0px 1px 3px 1px rgba(0, 0, 0, 0.15);\n",
              "      filter: drop-shadow(0px 1px 2px rgba(0, 0, 0, 0.3));\n",
              "      fill: #FFFFFF;\n",
              "    }\n",
              "  </style>\n",
              "\n",
              "      <script>\n",
              "        const buttonEl =\n",
              "          document.querySelector('#df-1c00bb0b-2ef5-4570-ada7-8d4a9514a6ad button.colab-df-convert');\n",
              "        buttonEl.style.display =\n",
              "          google.colab.kernel.accessAllowed ? 'block' : 'none';\n",
              "\n",
              "        async function convertToInteractive(key) {\n",
              "          const element = document.querySelector('#df-1c00bb0b-2ef5-4570-ada7-8d4a9514a6ad');\n",
              "          const dataTable =\n",
              "            await google.colab.kernel.invokeFunction('convertToInteractive',\n",
              "                                                     [key], {});\n",
              "          if (!dataTable) return;\n",
              "\n",
              "          const docLinkHtml = 'Like what you see? Visit the ' +\n",
              "            '<a target=\"_blank\" href=https://colab.research.google.com/notebooks/data_table.ipynb>data table notebook</a>'\n",
              "            + ' to learn more about interactive tables.';\n",
              "          element.innerHTML = '';\n",
              "          dataTable['output_type'] = 'display_data';\n",
              "          await google.colab.output.renderOutput(dataTable, element);\n",
              "          const docLink = document.createElement('div');\n",
              "          docLink.innerHTML = docLinkHtml;\n",
              "          element.appendChild(docLink);\n",
              "        }\n",
              "      </script>\n",
              "    </div>\n",
              "  </div>\n",
              "  "
            ],
            "text/plain": [
              "      RowNumber  CustomerId    Surname  CreditScore Geography  Gender  Age  \\\n",
              "0             1    15634602   Hargrave          619    France  Female   42   \n",
              "1             2    15647311       Hill          608     Spain  Female   41   \n",
              "2             3    15619304       Onio          502    France  Female   42   \n",
              "3             4    15701354       Boni          699    France  Female   39   \n",
              "4             5    15737888   Mitchell          850     Spain  Female   43   \n",
              "...         ...         ...        ...          ...       ...     ...  ...   \n",
              "9995       9996    15606229   Obijiaku          771    France    Male   39   \n",
              "9996       9997    15569892  Johnstone          516    France    Male   35   \n",
              "9997       9998    15584532        Liu          709    France  Female   36   \n",
              "9998       9999    15682355  Sabbatini          772   Germany    Male   42   \n",
              "9999      10000    15628319     Walker          792    France  Female   28   \n",
              "\n",
              "      Tenure    Balance  NumOfProducts  HasCrCard  IsActiveMember  \\\n",
              "0          2       0.00            1.0          1             1.0   \n",
              "1          1   83807.86            1.0          0             1.0   \n",
              "2          8  159660.80            3.0          1             0.0   \n",
              "3          1       0.00            2.0          0             0.0   \n",
              "4          2  125510.82            1.0          1             1.0   \n",
              "...      ...        ...            ...        ...             ...   \n",
              "9995       5       0.00            2.0          1             0.0   \n",
              "9996      10   57369.61            1.0          1             1.0   \n",
              "9997       7       0.00            1.0          0             1.0   \n",
              "9998       3   75075.31            2.0          1             0.0   \n",
              "9999       4  130142.79            1.0          1             0.0   \n",
              "\n",
              "      EstimatedSalary  Exited  \n",
              "0           101348.88       1  \n",
              "1           112542.58       0  \n",
              "2           113931.57       1  \n",
              "3            93826.63       0  \n",
              "4            79084.10       0  \n",
              "...               ...     ...  \n",
              "9995         96270.64       0  \n",
              "9996        101699.77       0  \n",
              "9997         42085.58       1  \n",
              "9998         92888.52       1  \n",
              "9999         38190.78       0  \n",
              "\n",
              "[10000 rows x 14 columns]"
            ]
          },
          "execution_count": 501,
          "metadata": {},
          "output_type": "execute_result"
        }
      ],
      "source": [
        "import io\n",
        "import requests\n",
        "import pandas as pd\n",
        "\n",
        "df_churn_url = 'https://raw.githubusercontent.com/malegopc/DSBD/main/Datasets/Churn/Churn_Modelling_2.csv'\n",
        "df_churn_csv = requests.get(df_churn_url).content\n",
        "df_churn_dataset = pd.read_csv(io.StringIO(df_churn_csv.decode('utf-8')))\n",
        "df_churn = pd.DataFrame(df_churn_dataset)\n",
        "df_churn"
      ]
    },
    {
      "cell_type": "markdown",
      "metadata": {
        "id": "IwpA_UqRcuIi"
      },
      "source": [
        "**2. Elimine instâncias (linhas) com dados ausentes para a variável \"IsActiveMember\".**"
      ]
    },
    {
      "cell_type": "code",
      "execution_count": 502,
      "metadata": {
        "colab": {
          "base_uri": "https://localhost:8080/"
        },
        "id": "CZ-hLpytdH5p",
        "outputId": "a30d98b1-9df3-4b3a-a678-fb9c3d5629ff"
      },
      "outputs": [
        {
          "data": {
            "text/plain": [
              "RowNumber           0\n",
              "CustomerId          0\n",
              "Surname             0\n",
              "CreditScore         0\n",
              "Geography           0\n",
              "Gender              0\n",
              "Age                 0\n",
              "Tenure              0\n",
              "Balance             0\n",
              "NumOfProducts      10\n",
              "HasCrCard           0\n",
              "IsActiveMember     14\n",
              "EstimatedSalary     0\n",
              "Exited              0\n",
              "dtype: int64"
            ]
          },
          "execution_count": 502,
          "metadata": {},
          "output_type": "execute_result"
        }
      ],
      "source": [
        "df_churn.isnull().sum()"
      ]
    },
    {
      "cell_type": "code",
      "execution_count": 503,
      "metadata": {
        "colab": {
          "base_uri": "https://localhost:8080/"
        },
        "id": "scy9iegUdvpy",
        "outputId": "7523155b-0dd1-434a-ece3-1260547f7ff4"
      },
      "outputs": [
        {
          "data": {
            "text/plain": [
              "RowNumber           0\n",
              "CustomerId          0\n",
              "Surname             0\n",
              "CreditScore         0\n",
              "Geography           0\n",
              "Gender              0\n",
              "Age                 0\n",
              "Tenure              0\n",
              "Balance             0\n",
              "NumOfProducts      10\n",
              "HasCrCard           0\n",
              "IsActiveMember      0\n",
              "EstimatedSalary     0\n",
              "Exited              0\n",
              "dtype: int64"
            ]
          },
          "execution_count": 503,
          "metadata": {},
          "output_type": "execute_result"
        }
      ],
      "source": [
        "df_churn.dropna(subset=['IsActiveMember'], inplace = True)\n",
        "df_churn.isnull().sum()"
      ]
    },
    {
      "cell_type": "markdown",
      "metadata": {
        "id": "SAUWywr8fBnJ"
      },
      "source": [
        "**3. Faça a imputação dos dados ausentes para a variável \"NumOfProducts\" utilizando a média da variável.**"
      ]
    },
    {
      "cell_type": "code",
      "execution_count": 504,
      "metadata": {
        "colab": {
          "base_uri": "https://localhost:8080/"
        },
        "id": "XlE3iSXlfcuM",
        "outputId": "d2137cf8-4289-4155-c976-33d2ea0671dc"
      },
      "outputs": [
        {
          "data": {
            "text/plain": [
              "RowNumber          0\n",
              "CustomerId         0\n",
              "Surname            0\n",
              "CreditScore        0\n",
              "Geography          0\n",
              "Gender             0\n",
              "Age                0\n",
              "Tenure             0\n",
              "Balance            0\n",
              "NumOfProducts      0\n",
              "HasCrCard          0\n",
              "IsActiveMember     0\n",
              "EstimatedSalary    0\n",
              "Exited             0\n",
              "dtype: int64"
            ]
          },
          "execution_count": 504,
          "metadata": {},
          "output_type": "execute_result"
        }
      ],
      "source": [
        "from sklearn.impute import SimpleImputer\n",
        "import numpy as np\n",
        "\n",
        "imputer = SimpleImputer(missing_values = np.nan, strategy ='mean')\n",
        "df_churn[['NumOfProducts']] = imputer.fit_transform(df_churn[['NumOfProducts']].values)\n",
        "df_churn.isnull().sum()"
      ]
    },
    {
      "cell_type": "markdown",
      "metadata": {
        "id": "sOw3GE5SfwrM"
      },
      "source": [
        "**4. Crie uma variável (array) X que contenha apenas os valores dos atributos/colunas de \"CreditScore\" a \"EstimatedSalary\" utilizando a função \"iloc\" do Pandas. Em outras palavras, crie uma variável X que receba o dataframe inteiro exceto as 3 primeiras colunas e a última. Observe que as 3 primeiras colunas \"RowNumber\", \"CustomerId\" e \"Surname\" não são importantes e devem ser descartadas. E a última coluna (\"Exited\") será a variável destino (\"target\" ou saída) que será criada no próximo passo;**"
      ]
    },
    {
      "cell_type": "code",
      "execution_count": 505,
      "metadata": {
        "colab": {
          "base_uri": "https://localhost:8080/"
        },
        "id": "dxiUSjDwfySi",
        "outputId": "ba4745c1-df7a-44fd-c299-43a312764c39"
      },
      "outputs": [
        {
          "name": "stdout",
          "output_type": "stream",
          "text": [
            "[[619 'France' 'Female' ... 1 1.0 101348.88]\n",
            " [608 'Spain' 'Female' ... 0 1.0 112542.58]\n",
            " [502 'France' 'Female' ... 1 0.0 113931.57]\n",
            " ...\n",
            " [709 'France' 'Female' ... 0 1.0 42085.58]\n",
            " [772 'Germany' 'Male' ... 1 0.0 92888.52]\n",
            " [792 'France' 'Female' ... 1 0.0 38190.78]]\n"
          ]
        }
      ],
      "source": [
        "X = df_churn.iloc[:,3:13].values\n",
        "print(X)"
      ]
    },
    {
      "cell_type": "markdown",
      "metadata": {
        "id": "GqUqOhyuhYUp"
      },
      "source": [
        "**5. Crie uma variável (array) y que contenha apenas a última coluna  (\"Exited\"). Esta é a variável destino (\"target\" ou saída);**"
      ]
    },
    {
      "cell_type": "code",
      "execution_count": 506,
      "metadata": {
        "colab": {
          "base_uri": "https://localhost:8080/"
        },
        "id": "Y2xzPN7ehaC6",
        "outputId": "9c1896fb-3f15-4c94-df5c-28da48627c5a"
      },
      "outputs": [
        {
          "name": "stdout",
          "output_type": "stream",
          "text": [
            "0       1\n",
            "1       0\n",
            "2       1\n",
            "3       0\n",
            "4       0\n",
            "       ..\n",
            "9995    0\n",
            "9996    0\n",
            "9997    1\n",
            "9998    1\n",
            "9999    0\n",
            "Name: Exited, Length: 9986, dtype: int64\n"
          ]
        }
      ],
      "source": [
        "y = df_churn.iloc[:,13]\n",
        "print(y)"
      ]
    },
    {
      "cell_type": "markdown",
      "metadata": {
        "id": "BR54DRaKj3bz"
      },
      "source": [
        "**6. Codifique a coluna/variável categórica \"Geography\" como numérica utilizando a classe LabelEncoder da biblioteca scikit-learn;**"
      ]
    },
    {
      "cell_type": "code",
      "execution_count": 507,
      "metadata": {
        "colab": {
          "base_uri": "https://localhost:8080/"
        },
        "id": "311eVVi8j5pO",
        "outputId": "3c1ea223-ac63-4fdc-8b4e-9c361833ecbc"
      },
      "outputs": [
        {
          "name": "stdout",
          "output_type": "stream",
          "text": [
            "[[619 0 'Female' ... 1 1.0 101348.88]\n",
            " [608 2 'Female' ... 0 1.0 112542.58]\n",
            " [502 0 'Female' ... 1 0.0 113931.57]\n",
            " ...\n",
            " [709 0 'Female' ... 0 1.0 42085.58]\n",
            " [772 1 'Male' ... 1 0.0 92888.52]\n",
            " [792 0 'Female' ... 1 0.0 38190.78]]\n"
          ]
        }
      ],
      "source": [
        "from sklearn.preprocessing import LabelEncoder\n",
        "\n",
        "le = LabelEncoder() # cria objeto\n",
        "le.fit(X[:,1]) # ajusta na variável de entrada\n",
        "X[:,1] = le.transform(X[:,1]) # aplica a transformação na variável de entrada\n",
        "print(X)"
      ]
    },
    {
      "cell_type": "markdown",
      "metadata": {
        "id": "0o3twD7Un1Ov"
      },
      "source": [
        "**7. Codifique a coluna/variável categórica \"Gender\" como numérica utilizando a classe LabelEncoder da biblioteca scikit-learn;**"
      ]
    },
    {
      "cell_type": "code",
      "execution_count": 508,
      "metadata": {
        "colab": {
          "base_uri": "https://localhost:8080/"
        },
        "id": "vB3XmUSnn27l",
        "outputId": "4ae3c004-2527-4b2c-ef94-de2ef36b437b"
      },
      "outputs": [
        {
          "name": "stdout",
          "output_type": "stream",
          "text": [
            "[[619 0 0 ... 1 1.0 101348.88]\n",
            " [608 2 0 ... 0 1.0 112542.58]\n",
            " [502 0 0 ... 1 0.0 113931.57]\n",
            " ...\n",
            " [709 0 0 ... 0 1.0 42085.58]\n",
            " [772 1 1 ... 1 0.0 92888.52]\n",
            " [792 0 0 ... 1 0.0 38190.78]]\n"
          ]
        }
      ],
      "source": [
        "le = LabelEncoder() # cria objeto\n",
        "le.fit(X[:,2]) # ajusta na variável de entrada\n",
        "X[:,2] = le.transform(X[:,2]) # aplica a transformação na variável de entrada\n",
        "print(X)"
      ]
    },
    {
      "cell_type": "code",
      "execution_count": 509,
      "metadata": {
        "colab": {
          "base_uri": "https://localhost:8080/"
        },
        "id": "OSKX9s_f0gzz",
        "outputId": "94cfb441-b12d-44d9-cc12-c6d0f319a9b2"
      },
      "outputs": [
        {
          "data": {
            "text/plain": [
              "(9986, 10)"
            ]
          },
          "execution_count": 509,
          "metadata": {},
          "output_type": "execute_result"
        }
      ],
      "source": [
        "X.shape"
      ]
    },
    {
      "cell_type": "markdown",
      "metadata": {
        "id": "Mv1C-aBYpEyF"
      },
      "source": [
        "**8. Após executar o passo 6, transforme os dados da variável  Geography\" para a forma binária utilizando a classe OneHotEncoder da biblioteca scikit-learn eliminando redundância, ou seja, aplicando a codificação de variáveis dummy. Observe que há apenas 3 países (categorias) diferentes. Atenção: esse talvez seja o passo mais difícil da tarefa. Você deve transformar o resultado da variável/coluna \"Geography\" obtido no passo 6 para o formato binário (one-hot) de modo que fique representado por apenas duas colunas (de 0s e 1s). Além disso, essas duas novas colunas devem permanecer na mesma variável X. Dica: verifique a utilização da função make_column_transformer (Links para um site externo.) da biblioteca scikit-learn;**"
      ]
    },
    {
      "cell_type": "code",
      "execution_count": 510,
      "metadata": {
        "id": "maAW4kWPpNcF"
      },
      "outputs": [],
      "source": [
        "from sklearn.preprocessing import OneHotEncoder\n",
        "from sklearn.compose import make_column_transformer\n",
        "\n",
        "enc = OneHotEncoder(drop = 'first', sparse = False) # cria objeto com argumento sparse = False para retornar uma matriz e remover 1o. recurso\n",
        "ct = make_column_transformer((enc,[1]),remainder = 'passthrough')\n",
        "X = ct.fit_transform(X)"
      ]
    },
    {
      "cell_type": "code",
      "execution_count": 511,
      "metadata": {
        "colab": {
          "base_uri": "https://localhost:8080/"
        },
        "id": "an1osr1XyQId",
        "outputId": "29925484-f49b-42e4-a00f-b2b5c5e9d655"
      },
      "outputs": [
        {
          "data": {
            "text/plain": [
              "array([[0.0, 0.0, 619, ..., 1, 1.0, 101348.88],\n",
              "       [0.0, 1.0, 608, ..., 0, 1.0, 112542.58],\n",
              "       [0.0, 0.0, 502, ..., 1, 0.0, 113931.57],\n",
              "       ...,\n",
              "       [0.0, 0.0, 709, ..., 0, 1.0, 42085.58],\n",
              "       [1.0, 0.0, 772, ..., 1, 0.0, 92888.52],\n",
              "       [0.0, 0.0, 792, ..., 1, 0.0, 38190.78]], dtype=object)"
            ]
          },
          "execution_count": 511,
          "metadata": {},
          "output_type": "execute_result"
        }
      ],
      "source": [
        "X"
      ]
    },
    {
      "cell_type": "code",
      "execution_count": 512,
      "metadata": {
        "colab": {
          "base_uri": "https://localhost:8080/"
        },
        "id": "GvCKMq_P0B6v",
        "outputId": "e3884516-4626-4978-8980-f62cf36dbb92"
      },
      "outputs": [
        {
          "data": {
            "text/plain": [
              "(9986, 11)"
            ]
          },
          "execution_count": 512,
          "metadata": {},
          "output_type": "execute_result"
        }
      ],
      "source": [
        "X.shape"
      ]
    },
    {
      "cell_type": "markdown",
      "metadata": {
        "id": "exKQLpgU0pKT"
      },
      "source": [
        "**9. Divida os variáveis X e y em dados de treino e de teste utilizando o método \"train_test_split\", gerando as variáveis X_train, X_test, y_train e y_test. Você define a proporção de dados de treino e de teste;**"
      ]
    },
    {
      "cell_type": "code",
      "execution_count": 513,
      "metadata": {
        "colab": {
          "base_uri": "https://localhost:8080/"
        },
        "id": "Rj2QBfNV0zEo",
        "outputId": "9e06637a-a017-4048-e8b5-139867670104"
      },
      "outputs": [
        {
          "data": {
            "text/plain": [
              "((7489, 11), (2497, 11), (7489,), (2497,))"
            ]
          },
          "execution_count": 513,
          "metadata": {},
          "output_type": "execute_result"
        }
      ],
      "source": [
        "from sklearn.model_selection import train_test_split\n",
        "\n",
        "X_train, X_test, y_train, y_test = train_test_split(X,y,test_size=0.25) \n",
        "X_train.shape, X_test.shape, y_train.shape, y_test.shape "
      ]
    },
    {
      "cell_type": "markdown",
      "metadata": {
        "id": "MU11fS6B1C7V"
      },
      "source": [
        "**10. Faça a padronização dos dados das variáveis X_train e X_test utilizando a classe StandardScaler do scikit-learn;**"
      ]
    },
    {
      "cell_type": "code",
      "execution_count": 514,
      "metadata": {
        "colab": {
          "base_uri": "https://localhost:8080/"
        },
        "id": "qcIk6LRW1QKb",
        "outputId": "d2a85885-b7e1-43fa-a158-a5f17a540c22"
      },
      "outputs": [
        {
          "name": "stdout",
          "output_type": "stream",
          "text": [
            "[[1.         0.         0.442      ... 1.         0.         0.83854753]\n",
            " [1.         0.         0.526      ... 0.         0.         0.13978045]\n",
            " [0.         0.         0.87       ... 1.         0.         0.81901237]\n",
            " ...\n",
            " [0.         1.         0.792      ... 0.         0.         0.35953294]\n",
            " [1.         0.         0.772      ... 1.         0.         0.14212787]\n",
            " [1.         0.         0.806      ... 1.         0.         0.74406886]]\n",
            "[[0.         0.         0.492      ... 1.         1.         0.06028481]\n",
            " [0.         1.         0.138      ... 0.         1.         0.67360898]\n",
            " [1.         0.         0.894      ... 0.         0.         0.34881111]\n",
            " ...\n",
            " [0.         0.         0.52       ... 1.         1.         0.74802624]\n",
            " [0.         0.         0.722      ... 1.         1.         0.13379413]\n",
            " [0.         0.         0.48       ... 1.         0.         0.29621954]]\n"
          ]
        }
      ],
      "source": [
        "from sklearn.preprocessing import MinMaxScaler\n",
        "sc = MinMaxScaler() #cria objeto\n",
        "X_train = sc.fit_transform(X_train)\n",
        "X_test = sc.transform(X_test)\n",
        "print(X_train)\n",
        "print(X_test)\n",
        "\n",
        "# from sklearn.preprocessing import StandardScaler\n",
        "# sc = StandardScaler() #cria objeto\n",
        "# X_train = sc.fit_transform(X_train)\n",
        "# print(X_train)"
      ]
    },
    {
      "cell_type": "markdown",
      "metadata": {
        "id": "DzxVg6OYO17y"
      },
      "source": [
        "# **Tarefa 5.2 - Aplicação de diferentes algoritmos de AM numa tarefa de predição (classificação) Churn - Churn_Modelling** | *Lucas Omar*"
      ]
    },
    {
      "cell_type": "markdown",
      "metadata": {
        "id": "2gn9g8trO8oJ"
      },
      "source": [
        "**1. Você deve aplicar os seguintes algoritmos de AM:**\n",
        "* **Regressão Logística**\n",
        "* **KNN - K-Nearest Neighbors (k-vizinhos mais próximos)**\n",
        "* **SVM - Support Vector Machines (Máquinas de Vetores de Suporte)**\n",
        "* **Random Forest**"
      ]
    },
    {
      "cell_type": "code",
      "execution_count": 515,
      "metadata": {
        "colab": {
          "base_uri": "https://localhost:8080/",
          "height": 314
        },
        "id": "CpPEt7_1PS3g",
        "outputId": "09495e6c-f450-4910-eb5d-695c9d0d28d1"
      },
      "outputs": [
        {
          "name": "stdout",
          "output_type": "stream",
          "text": [
            "Taxa de acerto =  80.82 %\n",
            "Matriz de confusão:\n"
          ]
        },
        {
          "data": {
            "image/png": "[encoded data removed]",
            "text/plain": [
              "<Figure size 432x288 with 2 Axes>"
            ]
          },
          "metadata": {
            "needs_background": "light"
          },
          "output_type": "display_data"
        }
      ],
      "source": [
        "#######################\n",
        "# Regressão Logística #\n",
        "#######################\n",
        "\n",
        "from sklearn import metrics\n",
        "from sklearn.metrics import ConfusionMatrixDisplay\n",
        "from sklearn.linear_model import LogisticRegression\n",
        "\n",
        "logreg = LogisticRegression(solver = 'liblinear') # liblinear => conjuntos pequenos\n",
        "logreg.fit(X_train,y_train)\n",
        "classificacoes_logreg = logreg.predict(X_test)\n",
        "\n",
        "acertos_LogReg = metrics.accuracy_score(y_test,classificacoes_logreg)\n",
        "print('Taxa de acerto = ',round(acertos_LogReg*100,2),\"%\")\n",
        "\n",
        "print('Matriz de confusão:')\n",
        "cm_logreg = ConfusionMatrixDisplay.from_estimator(logreg, X_test, y_test)"
      ]
    },
    {
      "cell_type": "code",
      "execution_count": 516,
      "metadata": {
        "colab": {
          "base_uri": "https://localhost:8080/",
          "height": 314
        },
        "id": "HvN98TcjQPnv",
        "outputId": "5c2a706e-393a-4654-f905-9a331bbac354"
      },
      "outputs": [
        {
          "name": "stdout",
          "output_type": "stream",
          "text": [
            "Taxa de acerto =  81.58 %\n",
            "Matriz de confusão:\n"
          ]
        },
        {
          "data": {
            "image/png": "[encoded data removed]",
            "text/plain": [
              "<Figure size 432x288 with 2 Axes>"
            ]
          },
          "metadata": {
            "needs_background": "light"
          },
          "output_type": "display_data"
        }
      ],
      "source": [
        "########################################################\n",
        "# KNN - K-Nearest Neighbors (k-vizinhos mais próximos) #\n",
        "########################################################\n",
        "from sklearn.neighbors import KNeighborsClassifier\n",
        "\n",
        "knn = KNeighborsClassifier(n_neighbors=20) \n",
        "knn.fit(X_train,y_train)\n",
        "classificacoes_knn = knn.predict(X_test)\n",
        "\n",
        "acertos_knn = metrics.accuracy_score(y_test,classificacoes_knn)\n",
        "print('Taxa de acerto = ',round(acertos_knn*100,2),\"%\")\n",
        "\n",
        "print('Matriz de confusão:')\n",
        "cm_knn = ConfusionMatrixDisplay.from_estimator(knn, X_test, y_test)"
      ]
    },
    {
      "cell_type": "code",
      "execution_count": 517,
      "metadata": {
        "colab": {
          "base_uri": "https://localhost:8080/",
          "height": 314
        },
        "id": "VJ1tB2MLTLQw",
        "outputId": "bc02893c-4ff8-4070-d0f5-f155477117d0"
      },
      "outputs": [
        {
          "name": "stdout",
          "output_type": "stream",
          "text": [
            "Taxa de acerto =  84.66 %\n",
            "Matriz de confusão:\n"
          ]
        },
        {
          "data": {
            "image/png": "[encoded data removed]",
            "text/plain": [
              "<Figure size 432x288 with 2 Axes>"
            ]
          },
          "metadata": {
            "needs_background": "light"
          },
          "output_type": "display_data"
        }
      ],
      "source": [
        "###################################################################\n",
        "# SVM - Support Vector Machines (Máquinas de Vetores de Suporte ) #\n",
        "###################################################################\n",
        "from sklearn import svm\n",
        "\n",
        "svm = svm.SVC()\n",
        "svm.fit(X_train, y_train)\n",
        "classificacoes_svm = svm.predict(X_test)\n",
        "\n",
        "acertos_svm = metrics.accuracy_score(y_test, classificacoes_svm)\n",
        "print('Taxa de acerto = ',round(acertos_svm*100,2),\"%\")\n",
        "\n",
        "print('Matriz de confusão:')\n",
        "cm_svm = ConfusionMatrixDisplay.from_estimator(svm, X_test, y_test)"
      ]
    },
    {
      "cell_type": "code",
      "execution_count": 518,
      "metadata": {
        "colab": {
          "base_uri": "https://localhost:8080/",
          "height": 314
        },
        "id": "-6Q8CU3kVgHc",
        "outputId": "c5cfa949-8d52-448e-c650-d3bf7027681c"
      },
      "outputs": [
        {
          "name": "stdout",
          "output_type": "stream",
          "text": [
            "Taxa de acerto =  85.42 %\n",
            "Matriz de confusão:\n"
          ]
        },
        {
          "data": {
            "image/png": "[encoded data removed]",
            "text/plain": [
              "<Figure size 432x288 with 2 Axes>"
            ]
          },
          "metadata": {
            "needs_background": "light"
          },
          "output_type": "display_data"
        }
      ],
      "source": [
        "#################\n",
        "# Random Forest #\n",
        "#################\n",
        "from sklearn.ensemble import RandomForestClassifier\n",
        "\n",
        "# n_estimators é o número de arvores de decisao que ele vai implementar\n",
        "rf = RandomForestClassifier(n_estimators = 10, random_state = 42)\n",
        "rf.fit(X_train, y_train)\n",
        "classificacoes_rf = rf.predict(X_test)\n",
        "\n",
        "acertos_rf = metrics.accuracy_score(y_test, classificacoes_rf)\n",
        "print('Taxa de acerto = ',round(acertos_rf*100,2),\"%\")\n",
        "\n",
        "print('Matriz de confusão:')\n",
        "cm_rf = ConfusionMatrixDisplay.from_estimator(rf, X_test, y_test)"
      ]
    }
  ],
  "metadata": {
    "colab": {
      "collapsed_sections": [],
      "name": "dsbd-Tarefa_5_2_LucasOmar",
      "provenance": []
    },
    "kernelspec": {
      "display_name": "Python 3",
      "name": "python3"
    },
    "language_info": {
      "name": "python"
    }
  },
  "nbformat": 4,
  "nbformat_minor": 0
}
